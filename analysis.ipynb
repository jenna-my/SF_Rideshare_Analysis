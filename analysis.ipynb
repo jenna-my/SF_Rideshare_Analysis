{
 "cells": [
  {
   "cell_type": "markdown",
   "metadata": {},
   "source": [
    "# Introduction"
   ]
  },
  {
   "cell_type": "markdown",
   "metadata": {},
   "source": [
    "San Francisco is one of the most historically and culturally rich cities in the world, \n",
    "attracting a plethora of tourists and visitors year-round. With new technologies paving the way in \n",
    "transportation, more and more tourists are finding themselves in need of rideshare services to \n",
    "visit key hot spots in San Francisco. In this project, travel times for Uber trips \n",
    "between hotspots and BART stations in San Francisco."
   ]
  },
  {
   "cell_type": "code",
   "execution_count": null,
   "metadata": {},
   "outputs": [],
   "source": []
  }
 ],
 "metadata": {
  "kernelspec": {
   "display_name": "Python 3",
   "language": "python",
   "name": "python3"
  },
  "language_info": {
   "codemirror_mode": {
    "name": "ipython",
    "version": 3
   },
   "file_extension": ".py",
   "mimetype": "text/x-python",
   "name": "python",
   "nbconvert_exporter": "python",
   "pygments_lexer": "ipython3",
   "version": "3.7.4"
  }
 },
 "nbformat": 4,
 "nbformat_minor": 2
}
